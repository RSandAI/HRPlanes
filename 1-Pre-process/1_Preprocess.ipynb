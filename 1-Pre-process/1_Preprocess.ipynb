{
  "cells": [
    {
      "cell_type": "markdown",
      "id": "c8f14564",
      "metadata": {
        "id": "c8f14564"
      },
      "source": [
        "# **Pre-process a Benchmark Dataset: HRPlanes**\n",
        "\n",
        "<p align=\"center\">\n",
        "    <img src=\"https://raw.githubusercontent.com/RSandAI/HRPlanes/main/Assets/HRPlanes%20Header.png\" height=400 width=1000 alt=\"Ultralytics\">\n",
        "</p>\n",
        "\n",
        "<small>Picture Source: <a href=\"https://github.com/RSandAI/HRPlanes\">RSandAI</a></small>\n",
        "\n",
        "<br>\n",
        "\n",
        "Airplane detection from satellite imagery is a challenging task due to the complex backgrounds in the images and differences in data acquisition conditions caused by the sensor geometry and atmospheric effects. Deep learning methods provide reliable and accurate solutions for automatic detection of airplanes; however, huge amount of training data is required to obtain promising results. In this study, we create a novel airplane detection dataset called High Resolution Planes (HRPlanes) by using images from Google Earth (GE) and labeling the bounding box of each plane on the images. HRPlanes include GE images of several different airports across the world to represent a variety of landscape, seasonal and satellite geometry conditions obtained from different satellites.\n",
        "\n",
        "<br>\n",
        "\n",
        "The dataset includes 3101 RGB images of major airports and aircraft boneyards, manually annotated with bounding boxes for airplanes using Plainsight (formerly HyperLabel). Quality control was conducted independently, resulting in 18,477 annotated airplanes. The dataset is split into 70% training (2170 images), 20% validation (620 images), and 10% testing (311 images) sets.\n",
        "\n",
        "<br>\n",
        "\n",
        "- Dataset address: [HRPlanes GitHub Repository](https://github.com/RSandAI/HRPlanes)\n",
        "\n",
        "- Remote Sensing AI GitHub link: [RSandAI](https://github.com/RSandAI)\n",
        "\n",
        "- Research article: [DergiPark](https://dergipark.org.tr/en/pub/ijeg/issue/77206/1107890)\n",
        "\n",
        "<br>"
      ]
    },
    {
      "cell_type": "markdown",
      "source": [
        "## **Table of Contents**\n",
        "\n",
        "<div class=\"alert alert-block alert-info\" style=\"margin-top: 20px\">\n",
        "<li><a href=\"https://#appropriate_environment\">0. Importing Libraries</a></li>\n",
        "<li><a href=\"https://#libraries\">1. Split TXT and JPG Files</a></li>\n",
        "<li><a href=\"https://#data_preparation\">2. Move Files into Drive Folder</a></li>\n",
        "\n",
        "<br>\n",
        "\n",
        "<p></p>\n",
        "Estimated Time Needed: <strong>60 min</strong>\n",
        "</div>\n",
        "\n",
        "<br>"
      ],
      "metadata": {
        "id": "8PfRcSkVCnB3"
      },
      "id": "8PfRcSkVCnB3"
    },
    {
      "cell_type": "markdown",
      "id": "a8bd8d03",
      "metadata": {
        "id": "a8bd8d03"
      },
      "source": [
        "## **0. Importing Libraries**"
      ]
    },
    {
      "cell_type": "code",
      "source": [
        "from google.colab import drive\n",
        "drive.mount('/gdrive')"
      ],
      "metadata": {
        "colab": {
          "base_uri": "https://localhost:8080/"
        },
        "id": "HiuWeg5p2vyF",
        "outputId": "d7f4633b-654d-477b-8a0c-74415c3eafdf"
      },
      "id": "HiuWeg5p2vyF",
      "execution_count": null,
      "outputs": [
        {
          "output_type": "stream",
          "name": "stdout",
          "text": [
            "Mounted at /gdrive\n"
          ]
        }
      ]
    },
    {
      "cell_type": "code",
      "execution_count": null,
      "id": "757cd750",
      "metadata": {
        "id": "757cd750"
      },
      "outputs": [],
      "source": [
        "import os\n",
        "import shutil\n",
        "import matplotlib.pyplot as plt"
      ]
    },
    {
      "cell_type": "markdown",
      "id": "350a398f",
      "metadata": {
        "id": "350a398f"
      },
      "source": [
        "## **1. Split TXT and JPG Files**"
      ]
    },
    {
      "cell_type": "markdown",
      "source": [
        "After accessing the dataset from [Google Drive](https://drive.google.com/drive/folders/1NYji6HWh4HRLQMTagsn4tTv4LOdDrc9P?usp=sharing), **you need to create a shortcut to easily make modifications**. [Here](https://towardsdatascience.com/simplify-file-sharing-44bde79a8a18) you can find how to do it."
      ],
      "metadata": {
        "id": "aUFJw_5yABzX"
      },
      "id": "aUFJw_5yABzX"
    },
    {
      "cell_type": "markdown",
      "id": "303cf380",
      "metadata": {
        "id": "303cf380"
      },
      "source": [
        "### **1.1. Build Functions**\n",
        "\n",
        "This functions will extract the file name from the paths in train.txt, validation.txt, and test.txt files and move them into new folders names `train`, `val` and `test`."
      ]
    },
    {
      "cell_type": "code",
      "execution_count": null,
      "id": "498632bf",
      "metadata": {
        "id": "498632bf"
      },
      "outputs": [],
      "source": [
        "def create_folders(dataset):\n",
        "    os.makedirs(dataset + '/images', exist_ok=True)\n",
        "    os.makedirs(dataset + '/labels', exist_ok=True)\n",
        "\n",
        "def copy_files(dataset, txt_path):\n",
        "    with open(txt_path, 'r') as file:\n",
        "        lines = file.readlines()\n",
        "        for line in lines:\n",
        "            file_path = line.strip().split('/')[-1]\n",
        "            file_name, _ = os.path.splitext(file_path)\n",
        "            img_src = os.path.join(img_folder, file_path)\n",
        "            label_src = os.path.join(img_folder, file_name + '.txt')\n",
        "            img_dest = os.path.join(dataset, 'images', file_path)\n",
        "            label_dest = os.path.join(dataset, 'labels', file_name + '.txt')\n",
        "            shutil.copy(img_src, img_dest)\n",
        "            shutil.copy(label_src, label_dest)\n",
        "\n",
        "def count_files(directory):\n",
        "    return len([name for name in os.listdir(directory) if os.path.isfile(os.path.join(directory, name))])"
      ]
    },
    {
      "cell_type": "markdown",
      "source": [
        "### **1.2. Seperate Files**"
      ],
      "metadata": {
        "id": "iUdZGylLxcyc"
      },
      "id": "iUdZGylLxcyc"
    },
    {
      "cell_type": "markdown",
      "source": [
        "Our `img_folder` variable is used to store the path to the folder where your image and label files are located. In this context, it is used in a script that processes image and label files for a machine learning task using the YOLO (You Only Look Once) model."
      ],
      "metadata": {
        "id": "x0BhUKMp_aSd"
      },
      "id": "x0BhUKMp_aSd"
    },
    {
      "cell_type": "code",
      "source": [
        "img_folder = '/gdrive/MyDrive/Datasets/HRPlanes YOLO/img/' # @param {type:\"string\"}"
      ],
      "metadata": {
        "id": "h3WzQQrs2WfQ",
        "cellView": "form"
      },
      "id": "h3WzQQrs2WfQ",
      "execution_count": null,
      "outputs": []
    },
    {
      "cell_type": "markdown",
      "source": [
        "Next, you need to define where the `train.txt`, `validation.txt` and `test.txt` files."
      ],
      "metadata": {
        "id": "YmKleUhivPO1"
      },
      "id": "YmKleUhivPO1"
    },
    {
      "cell_type": "code",
      "source": [
        "train_txt_path = '/gdrive/MyDrive/Datasets/HRPlanes YOLO/train.txt' # @param {type:\"string\"}\n",
        "val_txt_path = '/gdrive/MyDrive/Datasets/HRPlanes YOLO/validation.txt' # @param {type:\"string\"}\n",
        "test_txt_path = '/gdrive/MyDrive/Datasets/HRPlanes YOLO/test.txt' # @param {type:\"string\"}"
      ],
      "metadata": {
        "id": "hIV42dSe4dCy",
        "cellView": "form"
      },
      "id": "hIV42dSe4dCy",
      "execution_count": null,
      "outputs": []
    },
    {
      "cell_type": "markdown",
      "source": [
        "Create folders named `train`, `val` and `test`."
      ],
      "metadata": {
        "id": "IN_L8JK9wIAn"
      },
      "id": "IN_L8JK9wIAn"
    },
    {
      "cell_type": "code",
      "source": [
        "create_folders('/content/train')\n",
        "create_folders('/content/val')\n",
        "create_folders('/content/test')"
      ],
      "metadata": {
        "id": "O4_YYU3iwIcB"
      },
      "id": "O4_YYU3iwIcB",
      "execution_count": null,
      "outputs": []
    },
    {
      "cell_type": "markdown",
      "source": [
        "Copy JPG files to `images` folder and TXT files to `labels` folder. This may take a while."
      ],
      "metadata": {
        "id": "j8dNmYo9wXi0"
      },
      "id": "j8dNmYo9wXi0"
    },
    {
      "cell_type": "code",
      "source": [
        "copy_files('/content/train', train_txt_path)\n",
        "copy_files('/content/val', val_txt_path)\n",
        "copy_files('/content/test', test_txt_path)"
      ],
      "metadata": {
        "id": "TdRrnuoZweeL"
      },
      "id": "TdRrnuoZweeL",
      "execution_count": null,
      "outputs": []
    },
    {
      "cell_type": "markdown",
      "id": "bd91ffc6",
      "metadata": {
        "id": "bd91ffc6"
      },
      "source": [
        "### **1.3. Print and Plot Number of Files**"
      ]
    },
    {
      "cell_type": "code",
      "source": [
        "directories = ['/content/train/images', '/content/val/images', '/content/test/images']\n",
        "labels = ['train', 'val', 'test']\n",
        "colors = ['dodgerblue', 'skyblue', 'slategray']\n",
        "\n",
        "counts = [count_files(directory) for directory in directories]\n",
        "plt.figure(figsize=(15, 5))\n",
        "plt.bar(labels, counts, color=colors)\n",
        "plt.xlabel('Dataset')\n",
        "plt.ylabel('Number of Images')\n",
        "plt.title('Number of Images in Dataset')\n",
        "plt.show()"
      ],
      "metadata": {
        "colab": {
          "base_uri": "https://localhost:8080/",
          "height": 479
        },
        "id": "M2EW0u17xWza",
        "outputId": "c96020ac-baf2-48d3-95ac-cd5c65f727d6"
      },
      "id": "M2EW0u17xWza",
      "execution_count": null,
      "outputs": [
        {
          "output_type": "display_data",
          "data": {
            "text/plain": [
              "<Figure size 1500x500 with 1 Axes>"
            ],
            "image/png": "[encoded data removed]"
          },
          "metadata": {}
        }
      ]
    },
    {
      "cell_type": "code",
      "execution_count": null,
      "id": "3c1e9b12",
      "metadata": {
        "colab": {
          "base_uri": "https://localhost:8080/"
        },
        "id": "3c1e9b12",
        "outputId": "725bd069-d5f6-4f2b-f7cb-647d84160ad4"
      },
      "outputs": [
        {
          "output_type": "stream",
          "name": "stdout",
          "text": [
            "Number of images in 'train/images': 2170\n"
          ]
        }
      ],
      "source": [
        "num_images = count_files('/content/train/images')\n",
        "print(f\"Number of images in 'train/images': {num_images}\")"
      ]
    },
    {
      "cell_type": "code",
      "source": [
        "num_images = count_files('/content/val/images')\n",
        "print(f\"Number of images in 'val/images': {num_images}\")"
      ],
      "metadata": {
        "colab": {
          "base_uri": "https://localhost:8080/"
        },
        "id": "BOw2sqH0w-Oh",
        "outputId": "baee580a-3e5b-49e8-8739-3297625b46d4"
      },
      "id": "BOw2sqH0w-Oh",
      "execution_count": null,
      "outputs": [
        {
          "output_type": "stream",
          "name": "stdout",
          "text": [
            "Number of images in 'val/images': 620\n"
          ]
        }
      ]
    },
    {
      "cell_type": "code",
      "source": [
        "num_images = count_files('/content/test/images')\n",
        "print(f\"Number of images in 'test/images': {num_images}\")"
      ],
      "metadata": {
        "colab": {
          "base_uri": "https://localhost:8080/"
        },
        "id": "ocO_iDY2w_wE",
        "outputId": "d994e15c-9552-4bcb-f42e-fc437feaecc0"
      },
      "id": "ocO_iDY2w_wE",
      "execution_count": null,
      "outputs": [
        {
          "output_type": "stream",
          "name": "stdout",
          "text": [
            "Number of images in 'test/images': 311\n"
          ]
        }
      ]
    },
    {
      "cell_type": "markdown",
      "source": [
        "## **2. Move Files into Drive Folder**"
      ],
      "metadata": {
        "id": "07DU_J_V9fYp"
      },
      "id": "07DU_J_V9fYp"
    },
    {
      "cell_type": "markdown",
      "source": [
        "Instead of uploading and downloading files, we can directly move them to the desired path. You need to select where the TXT and JPG images are stored in the `train`, `val`, and `test` folders."
      ],
      "metadata": {
        "id": "mXTpZNEU-I_c"
      },
      "id": "mXTpZNEU-I_c"
    },
    {
      "cell_type": "code",
      "source": [
        "import shutil\n",
        "shutil.move(\"/content/train\", \"/gdrive/MyDrive/Datasets/HRPlanes/\")\n",
        "shutil.move(\"/content/val\", \"/gdrive/MyDrive/Datasets/HRPlanes/\")\n",
        "shutil.move(\"/content/test\", \"/gdrive/MyDrive/Datasets/HRPlanes/\")"
      ],
      "metadata": {
        "id": "o0agPbIM9nkC"
      },
      "id": "o0agPbIM9nkC",
      "execution_count": null,
      "outputs": []
    },
    {
      "cell_type": "code",
      "source": [
        "from datetime import datetime\n",
        "print(f\"Changes have been made to the project on {datetime.now().strftime('%Y-%m-%d %H:%M:%S')}\")"
      ],
      "metadata": {
        "colab": {
          "base_uri": "https://localhost:8080/"
        },
        "id": "BgJKzz8l1qz2",
        "outputId": "b87a6bf6-70b3-4f85-8c39-212ab03c400e"
      },
      "id": "BgJKzz8l1qz2",
      "execution_count": null,
      "outputs": [
        {
          "output_type": "stream",
          "name": "stdout",
          "text": [
            "Changes have been made to the project on 2024-02-25 19:56:30\n"
          ]
        }
      ]
    }
  ],
  "metadata": {
    "kernelspec": {
      "display_name": "Python 3 (ipykernel)",
      "language": "python",
      "name": "python3"
    },
    "language_info": {
      "codemirror_mode": {
        "name": "ipython",
        "version": 3
      },
      "file_extension": ".py",
      "mimetype": "text/x-python",
      "name": "python",
      "nbconvert_exporter": "python",
      "pygments_lexer": "ipython3",
      "version": "3.9.7"
    },
    "colab": {
      "provenance": [],
      "toc_visible": true
    }
  },
  "nbformat": 4,
  "nbformat_minor": 5
}